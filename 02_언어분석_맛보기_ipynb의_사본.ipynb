{
  "nbformat": 4,
  "nbformat_minor": 0,
  "metadata": {
    "colab": {
      "name": "02.언어분석 맛보기.ipynb의 사본",
      "provenance": [],
      "collapsed_sections": [],
      "toc_visible": true,
      "include_colab_link": true
    },
    "kernelspec": {
      "name": "python3",
      "display_name": "Python 3"
    }
  },
  "cells": [
    {
      "cell_type": "markdown",
      "metadata": {
        "id": "view-in-github",
        "colab_type": "text"
      },
      "source": [
        "<a href=\"https://colab.research.google.com/github/LEEYOUNHO-HUFS/Infinite-Challenge/blob/main/02_%EC%96%B8%EC%96%B4%EB%B6%84%EC%84%9D_%EB%A7%9B%EB%B3%B4%EA%B8%B0_ipynb%EC%9D%98_%EC%82%AC%EB%B3%B8.ipynb\" target=\"_parent\"><img src=\"https://colab.research.google.com/assets/colab-badge.svg\" alt=\"Open In Colab\"/></a>"
      ]
    },
    {
      "cell_type": "code",
      "metadata": {
        "id": "0eHLeTgZ96ys",
        "cellView": "form",
        "outputId": "dbee46c5-bda2-4d51-9b4b-5c38be67f684",
        "colab": {
          "base_uri": "https://localhost:8080/",
          "height": 122
        }
      },
      "source": [
        "#@title N-Gram - 띄어쓰기 기준 분리\n",
        "문장 = '\\uC218\\uC5C5\\uC744 \\uC9C4\\uD589\\uD558\\uBA74\\uC11C \\uB290\\uB080 \\uAC74 \\uACBD\\uC81C\\uD1B5\\uACC4\\uD559\\uC744 \\uC218\\uC5C5 \\uC5C6\\uC774 \\uB3C5\\uD559\\uD558\\uAE30\\uB780 \\uBD88\\uAC00\\uB2A5\\uD558\\uB2E4\\uB294 \\uAC83\\uC774\\uB2E4.'  #@param {type: \"string\"}\n",
        "NGram크기 = \"5\" #@param [\"1\", \"2\", \"3\", \"4\", \"5\", \"6\"] {allow-input: true}\n",
        "\n",
        "from nltk import ngrams\n",
        "\n",
        "ngrams = ngrams(문장.split(), int(NGram크기))\n",
        "\n",
        "for grams in ngrams:\n",
        "  print(grams)"
      ],
      "execution_count": null,
      "outputs": [
        {
          "output_type": "stream",
          "text": [
            "('수업을', '진행하면서', '느낀', '건', '경제통계학을')\n",
            "('진행하면서', '느낀', '건', '경제통계학을', '수업')\n",
            "('느낀', '건', '경제통계학을', '수업', '없이')\n",
            "('건', '경제통계학을', '수업', '없이', '독학하기란')\n",
            "('경제통계학을', '수업', '없이', '독학하기란', '불가능하다는')\n",
            "('수업', '없이', '독학하기란', '불가능하다는', '것이다.')\n"
          ],
          "name": "stdout"
        }
      ]
    },
    {
      "cell_type": "code",
      "metadata": {
        "cellView": "form",
        "id": "5sZRTMJafCpf",
        "outputId": "34f9a85f-705c-4d56-8d31-12d1e71fd0fa",
        "colab": {
          "base_uri": "https://localhost:8080/",
          "height": 175
        }
      },
      "source": [
        "#@title N-Gram - 1글자 기준 분리\n",
        "문장 = '\\u597D\\u56F0\\uFF0C\\u4E0A\\u4E0B\\u773C\\u76AE\\u8981\\u6253\\u67B6\\u4E86\\u3002'  #@param {type: \"string\"}\n",
        "NGram크기 = \"4\" #@param [\"1\", \"2\", \"3\", \"4\", \"5\", \"6\"] {allow-input: true}\n",
        "\n",
        "from nltk import ngrams\n",
        "\n",
        "ngrams = list(ngrams(문장, int(NGram크기)))\n",
        "\n",
        "for grams in ngrams:\n",
        "  print(grams)"
      ],
      "execution_count": null,
      "outputs": [
        {
          "output_type": "stream",
          "text": [
            "('好', '困', '，', '上')\n",
            "('困', '，', '上', '下')\n",
            "('，', '上', '下', '眼')\n",
            "('上', '下', '眼', '皮')\n",
            "('下', '眼', '皮', '要')\n",
            "('眼', '皮', '要', '打')\n",
            "('皮', '要', '打', '架')\n",
            "('要', '打', '架', '了')\n",
            "('打', '架', '了', '。')\n"
          ],
          "name": "stdout"
        }
      ]
    },
    {
      "cell_type": "code",
      "metadata": {
        "id": "RnFuSHZj-qLX",
        "cellView": "form",
        "outputId": "bba84034-b639-467c-be29-2db8cd59decb",
        "colab": {
          "base_uri": "https://localhost:8080/",
          "height": 248
        }
      },
      "source": [
        "#@title 한국어 형태소 분석 - konlpy(kkma)\n",
        "한국어문장 = '\\uC218\\uC5C5\\uC744 \\uC9C4\\uD589\\uD558\\uBA74\\uC11C \\uB290\\uB080 \\uAC74 \\uACBD\\uC81C\\uD1B5\\uACC4\\uD559\\uC744 \\uC218\\uC5C5 \\uC5C6\\uC774 \\uB3C5\\uD559\\uD558\\uAE30\\uB780 \\uBD88\\uAC00\\uB2A5\\uD558\\uB2E4\\uB294 \\uAC83\\uC774\\uB2E4.'  #@param {type: \"string\"}\n",
        "\n",
        "\n",
        "!pip install konlpy\n",
        "from IPython.display import clear_output\n",
        "clear_output()\n",
        "\n",
        "from konlpy.tag import Kkma\n",
        "from konlpy.utils import pprint\n",
        "kkma = Kkma()\n",
        "\n",
        "print(\"  \")\n",
        "print(\"###문장 분리###\")\n",
        "print(kkma.sentences(한국어문장))\n",
        "\n",
        "print(\"  \")\n",
        "print(\"###명사 추출###\")\n",
        "print(kkma.nouns(한국어문장))\n",
        "\n",
        "print(\"  \")\n",
        "print(\"###형태소 분리###\")\n",
        "print(kkma.morphs(한국어문장))\n",
        "\n",
        "print(\"  \")\n",
        "print(\"###품사 태깅###\")\n",
        "print(kkma.pos(한국어문장))\n"
      ],
      "execution_count": null,
      "outputs": [
        {
          "output_type": "stream",
          "text": [
            "  \n",
            "###문장 분리###\n",
            "['수업을 진행하면서 느낀 건 경제 통계학을 수업 없이 독학하기란 불가능하다는 것이다.']\n",
            "  \n",
            "###명사 추출###\n",
            "['수업', '진행', '건', '경제', '경제통계학', '통계학', '독학', '불가능']\n",
            "  \n",
            "###형태소 분리###\n",
            "['수업', '을', '진행', '하', '면서', '느끼', 'ㄴ', '건', '경제', '통계학', '을', '수업', '없이', '독학', '하', '기', '란', '불가능', '하', '다', '는', '것', '이', '다', '.']\n",
            "  \n",
            "###품사 태깅###\n",
            "[('수업', 'NNG'), ('을', 'JKO'), ('진행', 'NNG'), ('하', 'XSV'), ('면서', 'ECE'), ('느끼', 'VV'), ('ㄴ', 'ETD'), ('건', 'NNG'), ('경제', 'NNG'), ('통계학', 'NNG'), ('을', 'JKO'), ('수업', 'NNG'), ('없이', 'MAG'), ('독학', 'NNG'), ('하', 'XSV'), ('기', 'ETN'), ('란', 'JX'), ('불가능', 'NNG'), ('하', 'XSV'), ('다', 'ECS'), ('는', 'JX'), ('것', 'NNB'), ('이', 'VCP'), ('다', 'EFN'), ('.', 'SF')]\n"
          ],
          "name": "stdout"
        }
      ]
    },
    {
      "cell_type": "code",
      "metadata": {
        "id": "5DTKbA5BxZ6U",
        "cellView": "form",
        "outputId": "db1471e3-f586-487d-db93-5d1db74d066c",
        "colab": {
          "base_uri": "https://localhost:8080/",
          "height": 195
        }
      },
      "source": [
        "#@title 한국어 형태소 분석 - konlpy(okt)\n",
        "한국어문장 = '\\uC218\\uC5C5\\uC744 \\uC9C4\\uD589\\uD558\\uBA74\\uC11C \\uB290\\uB080 \\uAC74 \\uACBD\\uC81C\\uD1B5\\uACC4\\uD559\\uC744 \\uC218\\uC5C5 \\uC5C6\\uC774 \\uB3C5\\uD559\\uD558\\uAE30\\uB780 \\uBD88\\uAC00\\uB2A5\\uD558\\uB2E4\\uB294 \\uAC83\\uC774\\uB2E4.'  #@param {type: \"string\"}\n",
        "\n",
        "\n",
        "!pip install konlpy\n",
        "from IPython.display import clear_output\n",
        "clear_output()\n",
        "\n",
        "from konlpy.tag import Okt\n",
        "from konlpy.utils import pprint\n",
        "okt = Okt()\n",
        "\n",
        "print(\"  \")\n",
        "print(\"###명사 추출###\")\n",
        "print(okt.nouns(한국어문장))\n",
        "\n",
        "print(\"  \")\n",
        "print(\"###형태소 분리###\")\n",
        "print(okt.morphs(한국어문장))\n",
        "\n",
        "print(\"  \")\n",
        "print(\"###품사 태깅###\")\n",
        "print(okt.pos(한국어문장))\n"
      ],
      "execution_count": null,
      "outputs": [
        {
          "output_type": "stream",
          "text": [
            "  \n",
            "###명사 추출###\n",
            "['수업', '진행', '건', '통계학', '수업', '독학', '것']\n",
            "  \n",
            "###형태소 분리###\n",
            "['수업', '을', '진행', '하면서', '느낀', '건', '경', '제', '통계학', '을', '수업', '없이', '독학', '하기란', '불가능하다는', '것', '이다', '.']\n",
            "  \n",
            "###품사 태깅###\n",
            "[('수업', 'Noun'), ('을', 'Josa'), ('진행', 'Noun'), ('하면서', 'Verb'), ('느낀', 'Verb'), ('건', 'Noun'), ('경', 'Modifier'), ('제', 'Modifier'), ('통계학', 'Noun'), ('을', 'Josa'), ('수업', 'Noun'), ('없이', 'Adverb'), ('독학', 'Noun'), ('하기란', 'Verb'), ('불가능하다는', 'Adjective'), ('것', 'Noun'), ('이다', 'Josa'), ('.', 'Punctuation')]\n"
          ],
          "name": "stdout"
        }
      ]
    },
    {
      "cell_type": "code",
      "metadata": {
        "id": "bys2hWtW-8cN",
        "cellView": "form",
        "outputId": "53777d0a-991a-46d4-b968-97342a6c86df",
        "colab": {
          "base_uri": "https://localhost:8080/",
          "height": 369
        }
      },
      "source": [
        "#@title 중국어 형태소 분석 - Jieba\n",
        "중국어문장 = '\\u597D\\u56F0\\uFF0C\\u4E0A\\u4E0B\\u773C\\u76AE\\u8981\\u6253\\u67B6\\u4E86\\u3002'  #@param {type: \"string\"}\n",
        "\n",
        "!pip install jieba\n",
        "from IPython.display import clear_output\n",
        "clear_output()\n",
        "# encoding=utf-8\n",
        "\n",
        "import jieba\n",
        "\n",
        "seg_list = jieba.cut(중국어문장)  # 默认是精确模式\n",
        "print(\"  \")\n",
        "print(\"###精确模式###\")\n",
        "print(\", \".join(seg_list))\n",
        "\n",
        "seg_list = jieba.cut_for_search(중국어문장)  # 搜索引擎模式\n",
        "print(\"  \")\n",
        "print(\"###搜索引擎模式###\")\n",
        "print(\", \".join(seg_list))\n",
        "\n",
        "import jieba.posseg as pseg\n",
        "words = pseg.cut(중국어문장)\n",
        "print(\"  \")\n",
        "print(\"###词性标注###\")\n",
        "for word, flag in words:\n",
        "  print('%s %s' % (word, flag))\n"
      ],
      "execution_count": null,
      "outputs": [
        {
          "output_type": "stream",
          "text": [
            "Building prefix dict from the default dictionary ...\n"
          ],
          "name": "stderr"
        },
        {
          "output_type": "stream",
          "text": [
            "  \n",
            "###精确模式###\n"
          ],
          "name": "stdout"
        },
        {
          "output_type": "stream",
          "text": [
            "Dumping model to file cache /tmp/jieba.cache\n",
            "Loading model cost 0.948 seconds.\n",
            "Prefix dict has been built successfully.\n"
          ],
          "name": "stderr"
        },
        {
          "output_type": "stream",
          "text": [
            "好困, ，, 上下, 眼皮, 要, 打架, 了, 。\n",
            "  \n",
            "###搜索引擎模式###\n",
            "好困, ，, 上下, 眼皮, 要, 打架, 了, 。\n",
            "  \n",
            "###词性标注###\n",
            "好困 a\n",
            "， x\n",
            "上下 f\n",
            "眼皮 n\n",
            "要 v\n",
            "打架 v\n",
            "了 ul\n",
            "。 x\n"
          ],
          "name": "stdout"
        }
      ]
    }
  ]
}